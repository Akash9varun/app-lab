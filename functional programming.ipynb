{
 "cells": [
  {
   "cell_type": "code",
   "execution_count": 1,
   "id": "9b9f27c8",
   "metadata": {},
   "outputs": [
    {
     "name": "stdout",
     "output_type": "stream",
     "text": [
      "T AND F =  False\n",
      "3*4=  12\n",
      "\n",
      "\n"
     ]
    }
   ],
   "source": [
    "#Q1\n",
    "#(a)\n",
    "y=lambda s: s and False\n",
    "print(\"T AND F = \",y(True)) \n",
    "\n",
    "#(b)\n",
    "x = lambda a : a*4\n",
    "print(\"3*4= \",x(3))\n",
    "print(\"\\n\")"
   ]
  },
  {
   "cell_type": "code",
   "execution_count": 2,
   "id": "41c33fef",
   "metadata": {},
   "outputs": [
    {
     "name": "stdout",
     "output_type": "stream",
     "text": [
      "Enter the number of meters to be converted: 550\n",
      "1804.55 feet\n",
      "Enter value for a: 45\n",
      "Enter value for b: 55\n",
      "2080\n"
     ]
    }
   ],
   "source": [
    "#Q2\n",
    "#(a)\n",
    "feet = lambda m: m*(3.281)\n",
    "meters = int(input(\"Enter the number of meters to be converted: \"))\n",
    "print(\"{:0.2f} feet\".format(feet(meters)))\n",
    "\n",
    "#(b)\n",
    "square = lambda x: x**2\n",
    "total = lambda f, b: lambda a: f(a)+b\n",
    "a = int(input(\"Enter value for a: \"))\n",
    "b = int(input(\"Enter value for b: \"))\n",
    "print(total(square, b)(a))"
   ]
  },
  {
   "cell_type": "code",
   "execution_count": 3,
   "id": "d0b449e3",
   "metadata": {},
   "outputs": [
    {
     "name": "stdout",
     "output_type": "stream",
     "text": [
      "Enter a number: 5\n",
      "625\n"
     ]
    }
   ],
   "source": [
    "#Q3\n",
    "def square(n):\n",
    "    n = n**2\n",
    "    return n\n",
    "\n",
    "def twice(f):\n",
    "    return square(f)\n",
    "\n",
    "n = int(input(\"Enter a number: \"))\n",
    "quad = twice(square(n))\n",
    "print(quad)"
   ]
  },
  {
   "cell_type": "code",
   "execution_count": 5,
   "id": "200fbc97",
   "metadata": {},
   "outputs": [
    {
     "name": "stdout",
     "output_type": "stream",
     "text": [
      "45\n"
     ]
    }
   ],
   "source": [
    "#Q4\n",
    "#(a)\n",
    "def multiplier_of(n):\n",
    "    def multiplier(number):\n",
    "        return number*n\n",
    "    return multiplier\n",
    "\n",
    "multiplywith5 = multiplier_of(5)\n",
    "print(multiplywith5(9))\n",
    "\n",
    "#(b)\n",
    "import random\n",
    "def outer(n):\n",
    "    lst = random.sample(range(0,n+1), n)\n",
    "    def inner():\n",
    "        ind = random.randrange(0, n)\n",
    "        return lst[ind]\n",
    "    return inner\n"
   ]
  },
  {
   "cell_type": "code",
   "execution_count": 6,
   "id": "383f9969",
   "metadata": {},
   "outputs": [
    {
     "name": "stdout",
     "output_type": "stream",
     "text": [
      "Enter a random number: 4\n",
      "Random number generated is: 3\n"
     ]
    }
   ],
   "source": [
    "\n",
    "n = int(input(\"Enter a random number: \"))\n",
    "pick_number = outer(n)\n",
    "print(\"Random number generated is: {}\".format(pick_number()))\n"
   ]
  },
  {
   "cell_type": "code",
   "execution_count": 1,
   "id": "a1f5c793",
   "metadata": {},
   "outputs": [
    {
     "name": "stdout",
     "output_type": "stream",
     "text": [
      "Enter the word: apple\n",
      "Enter the shift: 5\n",
      "Encrypted text: fuuqj"
     ]
    }
   ],
   "source": [
    "#Q6\n",
    "def encrypt(letter, s):\n",
    "    if (letter.isupper()):\n",
    "        return chr((ord(letter) + s - 65) % 26 + 65)\n",
    "    elif (letter.islower()):\n",
    "        return chr((ord(letter) + s - 97) % 26 + 97)\n",
    "    else:\n",
    "        return letter\n",
    "\n",
    "text = input(\"Enter the word: \")\n",
    "s = int(input(\"Enter the shift: \"))\n",
    "shift = [s] * len(text)\n",
    "result = list(map(encrypt, text, shift))\n",
    "\n",
    "print(\"Encrypted text: \", end=\"\")\n",
    "for i in result:\n",
    "    print(i, end=\"\")"
   ]
  },
  {
   "cell_type": "code",
   "execution_count": 9,
   "id": "f6a7595b",
   "metadata": {},
   "outputs": [
    {
     "name": "stdout",
     "output_type": "stream",
     "text": [
      "Player 2 is more consistent.\n"
     ]
    }
   ],
   "source": [
    "import functools\n",
    "import operator\n",
    "\n",
    "player1 = [100, 20, 50, 66, 72, 32]\n",
    "player2 = [56, 65, 78, 45, 33, 69]\n",
    "\n",
    "mean1 = (functools.reduce(operator.add, player1)) / len(player1)\n",
    "mean2 = (functools.reduce(operator.add, player2)) / len(player2)\n",
    "\n",
    "m1 = [mean1] * len(player1)\n",
    "m2 = [mean2] * len(player2)\n",
    "\n",
    "def variance(p, m):\n",
    "    var = p - m\n",
    "    return var**2\n",
    "    \n",
    "sqvar1 = list(map(variance, player1, m1))\n",
    "sqvar2 = list(map(variance, player2, m2))\n",
    "\n",
    "var1 = (functools.reduce(operator.add, sqvar1)) / len(sqvar1)\n",
    "var2 = (functools.reduce(operator.add, sqvar2)) / len(sqvar2)\n",
    "\n",
    "sd1 = var1**0.5\n",
    "sd2 = var2**0.5\n",
    "\n",
    "if sd1 == sd2:\n",
    "    print(\"Both players are consistent.\")\n",
    "elif sd1 > sd2:\n",
    "    print(\"Player 2 is more consistent.\")\n",
    "else:\n",
    "    print(\"Player 1 is more consistent.\")"
   ]
  },
  {
   "cell_type": "code",
   "execution_count": 10,
   "id": "f3e19855",
   "metadata": {},
   "outputs": [
    {
     "name": "stdout",
     "output_type": "stream",
     "text": [
      "Student #2 failed in at least one subject.\n",
      "Student #3 failed in at least one subject.\n"
     ]
    }
   ],
   "source": [
    "marks = [[88, 77, 66, 77, 99],[56, 78, 31, 35, 54],[53, 71, 64, 56, 14]]\n",
    "\n",
    "def fail(marks):\n",
    "    for i in marks:\n",
    "        if i < 40:\n",
    "            return True\n",
    "\n",
    "result = filter(fail, marks)\n",
    "res = list(result)\n",
    "for i in range(0, len(marks)):\n",
    "    if marks[i] in res:\n",
    "        print(\"Student #{} failed in at least one subject.\".format(i+1))"
   ]
  },
  {
   "cell_type": "code",
   "execution_count": 11,
   "id": "f73e33e7",
   "metadata": {},
   "outputs": [
    {
     "name": "stdout",
     "output_type": "stream",
     "text": [
      "IPL tweets: 4\n",
      "COVID19 tweets: 4\n"
     ]
    }
   ],
   "source": [
    "import functools\n",
    "import operator\n",
    "\n",
    "tweets = [\"First ever player to score 6000 runs in #IPL - Just another day at the ‘office’ for #ViratKohli!\",\n",
    "          \"My ⁦@rajasthanroyals outfit has arrived! Now to be well enough to wear it....Thanks ⁦@IamSanjuSamson & the RR management! All the best for the rest of the #IPL!\",\n",
    "         \"How amazing that both the centuries in this year’s #IPL have been scored by Malayalis, when Kerala has so long been regarded as a cricketing backwater!\",\n",
    "         \"Most 10-wicket wins in IPL: 4 - RCB, 2 - MI, 2 - SRH, 2 - CSK #RCBvsRR #RCB #RR #IPL #IPL2021 #CricTracker\",\n",
    "         \"India would have never eliminated polio, if people had to BUY polio vaccines. Same logic applies for #COVID19\",\n",
    "         \"The Ontario Science Table @COVIDSciOntario has recommended that 50% of all available vaccines go to hotspot neighbourhoods with the highest rates of #COVID19. RT if you agree the Ontario government should immediately do this to save lives.\",\n",
    "         \"UPA home minister resigned after terror attack on Mumbai. Why doesn’t NDA health minister resign for this #COVID19 mess? I would prefer Modi to resign as buck stops at him.But being thick skinned, he won’t!\",\n",
    "         \"Khalsa Aid India arranges Oxygen concentrators for COVID-19 patients, will deliver them in Delhi. #COVID19\"]\n",
    "\n",
    "ipl = [\"#ipl\"] * len(tweets)\n",
    "covid = [\"#covid19\"] * len(tweets)\n",
    "\n",
    "def segregate_tweets(lst, topic):\n",
    "    if topic in lst.lower():\n",
    "        return lst\n",
    "\n",
    "resultipl = list(map(segregate_tweets, tweets, ipl))\n",
    "resultcovid = list(map(segregate_tweets, tweets, covid))\n",
    "\n",
    "def filter_list(lst):\n",
    "    if lst != \"\":\n",
    "        return lst\n",
    "\n",
    "result_ipl = list(filter(filter_list, resultipl))\n",
    "result_covid = list(filter(filter_list, resultcovid))\n",
    "\n",
    "print(\"IPL tweets: {}\".format(len(result_ipl)))\n",
    "print(\"COVID19 tweets: {}\".format(len(result_covid)))"
   ]
  },
  {
   "cell_type": "code",
   "execution_count": null,
   "id": "151f748d",
   "metadata": {},
   "outputs": [],
   "source": []
  }
 ],
 "metadata": {
  "kernelspec": {
   "display_name": "Python 3",
   "language": "python",
   "name": "python3"
  },
  "language_info": {
   "codemirror_mode": {
    "name": "ipython",
    "version": 3
   },
   "file_extension": ".py",
   "mimetype": "text/x-python",
   "name": "python",
   "nbconvert_exporter": "python",
   "pygments_lexer": "ipython3",
   "version": "3.8.8"
  }
 },
 "nbformat": 4,
 "nbformat_minor": 5
}
