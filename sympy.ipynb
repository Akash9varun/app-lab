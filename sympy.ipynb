{
 "cells": [
  {
   "cell_type": "code",
   "execution_count": 1,
   "id": "58f05928",
   "metadata": {},
   "outputs": [
    {
     "name": "stdout",
     "output_type": "stream",
     "text": [
      "1.414213562373095048801688724209698078569671875376948073176679737990732478462107038850387534327641573\n"
     ]
    }
   ],
   "source": [
    "#q1\n",
    "from sympy import *\n",
    "expr = N(sqrt(2),100) \n",
    "print(expr)"
   ]
  },
  {
   "cell_type": "code",
   "execution_count": 2,
   "id": "276ccc7c",
   "metadata": {},
   "outputs": [
    {
     "name": "stdout",
     "output_type": "stream",
     "text": [
      "3/4\n"
     ]
    }
   ],
   "source": [
    "#q2\n",
    "from sympy import *\n",
    "a = Rational(1,2) \n",
    "b = Rational(1,4)\n",
    "print(a + b)"
   ]
  },
  {
   "cell_type": "code",
   "execution_count": 3,
   "id": "88187676",
   "metadata": {},
   "outputs": [
    {
     "name": "stdout",
     "output_type": "stream",
     "text": [
      "x**6 + 6*x**5*y + 15*x**4*y**2 + 20*x**3*y**3 + 15*x**2*y**4 + 6*x*y**5 + y**6\n"
     ]
    }
   ],
   "source": [
    "from sympy import *\n",
    "x, y, z, t = symbols('x y z t')\n",
    "expr = expand((x + y)**6) \n",
    "print(expr)"
   ]
  },
  {
   "cell_type": "code",
   "execution_count": 4,
   "id": "709585a9",
   "metadata": {},
   "outputs": [
    {
     "name": "stdout",
     "output_type": "stream",
     "text": [
      "tan(x)\n"
     ]
    }
   ],
   "source": [
    "from sympy import *\n",
    "x, y, z, t = symbols('x y z t')\n",
    "expr = simplify(sin(x)/cos(x)) \n",
    "print(expr)\n"
   ]
  },
  {
   "cell_type": "code",
   "execution_count": 5,
   "id": "003c0841",
   "metadata": {},
   "outputs": [
    {
     "name": "stdout",
     "output_type": "stream",
     "text": [
      "-1/6\n"
     ]
    }
   ],
   "source": [
    "from sympy import *\n",
    "x, y, z, t = symbols('x y z t')\n",
    "expr = simplify((sin(x)-x)/x**3) \n",
    "limexpr = limit(expr, x, 0) \n",
    "print(limexpr)"
   ]
  },
  {
   "cell_type": "code",
   "execution_count": 6,
   "id": "69c65bc3",
   "metadata": {},
   "outputs": [
    {
     "name": "stdout",
     "output_type": "stream",
     "text": [
      "1/x\n",
      "-1/x**2\n",
      "cos(x)\n",
      "-sin(x)\n"
     ]
    }
   ],
   "source": [
    "from sympy import *\n",
    "x, y, z, t = symbols('x y z t')\n",
    "expr1 = diff(log(x), x) \n",
    "expr2 = diff((1/x), x) \n",
    "expr3 = diff(sin(x), x) \n",
    "expr4 = diff(cos(x), x)\n",
    "print(expr1) \n",
    "print(expr2) \n",
    "print(expr3) \n",
    "print(expr4)\n"
   ]
  },
  {
   "cell_type": "code",
   "execution_count": 7,
   "id": "6fce6ee7",
   "metadata": {},
   "outputs": [
    {
     "name": "stdout",
     "output_type": "stream",
     "text": [
      "FiniteSet((-2, 4))\n"
     ]
    }
   ],
   "source": [
    "from sympy import *\n",
    "x, y, z, t = symbols('x y z t')\n",
    "expr = linsolve([x + y - 2, 2*x + y], (x, y)) \n",
    "print(expr)"
   ]
  },
  {
   "cell_type": "code",
   "execution_count": 4,
   "id": "7417275d",
   "metadata": {},
   "outputs": [
    {
     "name": "stdout",
     "output_type": "stream",
     "text": [
      "Collecting package metadata (current_repodata.json): done\n",
      "Solving environment: done\n",
      "\n",
      "## Package Plan ##\n",
      "\n",
      "  environment location: /opt/homebrew/Caskroom/miniforge/base/envs/myev\n",
      "\n",
      "  added / updated specs:\n",
      "    - future\n",
      "\n",
      "\n",
      "The following packages will be downloaded:\n",
      "\n",
      "    package                    |            build\n",
      "    ---------------------------|-----------------\n",
      "    future-0.18.2              |   py38h10201cd_3         710 KB  conda-forge\n",
      "    ------------------------------------------------------------\n",
      "                                           Total:         710 KB\n",
      "\n",
      "The following NEW packages will be INSTALLED:\n",
      "\n",
      "  future             conda-forge/osx-arm64::future-0.18.2-py38h10201cd_3\n",
      "\n",
      "\n",
      "\n",
      "Downloading and Extracting Packages\n",
      "future-0.18.2        | 710 KB    | ##################################### | 100% \n",
      "Preparing transaction: done\n",
      "Verifying transaction: done\n",
      "Executing transaction: done\n",
      "\n",
      "Note: you may need to restart the kernel to use updated packages.\n"
     ]
    }
   ],
   "source": [
    "conda install future\n"
   ]
  },
  {
   "cell_type": "code",
   "execution_count": 7,
   "id": "3b726f47",
   "metadata": {},
   "outputs": [
    {
     "ename": "ModuleNotFoundError",
     "evalue": "No module named '_future_'",
     "output_type": "error",
     "traceback": [
      "\u001b[0;31m---------------------------------------------------------------------------\u001b[0m",
      "\u001b[0;31mModuleNotFoundError\u001b[0m                       Traceback (most recent call last)",
      "\u001b[0;32m<ipython-input-7-1480150f2c23>\u001b[0m in \u001b[0;36m<module>\u001b[0;34m\u001b[0m\n\u001b[0;32m----> 1\u001b[0;31m \u001b[0;32mfrom\u001b[0m \u001b[0m_future_\u001b[0m \u001b[0;32mimport\u001b[0m \u001b[0mdivision\u001b[0m\u001b[0;34m\u001b[0m\u001b[0;34m\u001b[0m\u001b[0m\n\u001b[0m\u001b[1;32m      2\u001b[0m \u001b[0;32mfrom\u001b[0m \u001b[0msympy\u001b[0m \u001b[0;32mimport\u001b[0m \u001b[0;34m*\u001b[0m\u001b[0;34m\u001b[0m\u001b[0;34m\u001b[0m\u001b[0m\n\u001b[1;32m      3\u001b[0m \u001b[0mx\u001b[0m\u001b[0;34m,\u001b[0m \u001b[0my\u001b[0m\u001b[0;34m,\u001b[0m \u001b[0mz\u001b[0m\u001b[0;34m,\u001b[0m \u001b[0mt\u001b[0m \u001b[0;34m=\u001b[0m \u001b[0msymbols\u001b[0m\u001b[0;34m(\u001b[0m\u001b[0;34m'x y z t'\u001b[0m\u001b[0;34m)\u001b[0m\u001b[0;34m\u001b[0m\u001b[0;34m\u001b[0m\u001b[0m\n\u001b[1;32m      4\u001b[0m \u001b[0mexpr1\u001b[0m \u001b[0;34m=\u001b[0m \u001b[0mintegrate\u001b[0m\u001b[0;34m(\u001b[0m\u001b[0mx\u001b[0m\u001b[0;34m**\u001b[0m\u001b[0;36m2\u001b[0m\u001b[0;34m,\u001b[0m \u001b[0mx\u001b[0m\u001b[0;34m)\u001b[0m\u001b[0;34m\u001b[0m\u001b[0;34m\u001b[0m\u001b[0m\n\u001b[1;32m      5\u001b[0m \u001b[0mexpr2\u001b[0m \u001b[0;34m=\u001b[0m \u001b[0mintegrate\u001b[0m\u001b[0;34m(\u001b[0m\u001b[0mx\u001b[0m\u001b[0;34m**\u001b[0m\u001b[0;36m2\u001b[0m\u001b[0;34m,\u001b[0m \u001b[0my\u001b[0m\u001b[0;34m)\u001b[0m\u001b[0;34m\u001b[0m\u001b[0;34m\u001b[0m\u001b[0m\n",
      "\u001b[0;31mModuleNotFoundError\u001b[0m: No module named '_future_'"
     ]
    }
   ],
   "source": [
    "from _future_ import division \n",
    "from sympy import *\n",
    "x, y, z, t = symbols('x y z t')\n",
    "expr1 = integrate(x**2, x) \n",
    "expr2 = integrate(x**2, y) \n",
    "expr3 = integrate(sin(x), x) \n",
    "expr4 = integrate(sin(x), y) \n",
    "expr5 = integrate(cos(x), x) \n",
    "expr6 = integrate(cos(x), y)\n",
    "print(expr1)\n",
    "print(expr2)\n",
    "print(expr3) \n",
    "print(expr4)\n",
    "print(expr5) \n",
    "print(expr6)"
   ]
  },
  {
   "cell_type": "code",
   "execution_count": 9,
   "id": "8494a7c1",
   "metadata": {},
   "outputs": [
    {
     "name": "stdout",
     "output_type": "stream",
     "text": [
      "Eq(f(x), (C1*sin(sqrt(6)*x/2) + C2*cos(sqrt(6)*x/2))*exp(-sqrt(6)*x/2) + (C3*sin(sqrt(6)*x/2) + C4*cos(sqrt(6)*x/2))*exp(sqrt(6)*x/2) + 1/9)\n"
     ]
    }
   ],
   "source": [
    "from sympy import *\n",
    "x, y, z, t = symbols('x y z t')\n",
    "f, g, h = symbols('f g h', cls=Function)\n",
    "diffeq = Eq((f(x).diff(x, x)).diff(x, x) + 9*f(x) ,1) \n",
    "expr = dsolve(diffeq, f(x))\n",
    "print(expr)"
   ]
  },
  {
   "cell_type": "code",
   "execution_count": 11,
   "id": "20e2976e",
   "metadata": {},
   "outputs": [
    {
     "name": "stdout",
     "output_type": "stream",
     "text": [
      "FiniteSet((-59/34, -33/34, z))\n"
     ]
    }
   ],
   "source": [
    "from sympy import *\n",
    "x, y, z, t = symbols('x y z t')\n",
    "expr = linsolve(Matrix(([3, 7, -12], [4, -2, -5])), [x, y, z])\n",
    "print(expr)"
   ]
  },
  {
   "cell_type": "code",
   "execution_count": null,
   "id": "a73ae12f",
   "metadata": {},
   "outputs": [],
   "source": []
  }
 ],
 "metadata": {
  "kernelspec": {
   "display_name": "Python 3",
   "language": "python",
   "name": "python3"
  },
  "language_info": {
   "codemirror_mode": {
    "name": "ipython",
    "version": 3
   },
   "file_extension": ".py",
   "mimetype": "text/x-python",
   "name": "python",
   "nbconvert_exporter": "python",
   "pygments_lexer": "ipython3",
   "version": "3.8.8"
  }
 },
 "nbformat": 4,
 "nbformat_minor": 5
}
