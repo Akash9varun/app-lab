{
 "cells": [
  {
   "cell_type": "code",
   "execution_count": 1,
   "id": "bd3ac514",
   "metadata": {},
   "outputs": [
    {
     "name": "stdout",
     "output_type": "stream",
     "text": [
      "1.414213562373095048801688724209698078569671875376948073176679737990732478462107038850387534327641573\n"
     ]
    }
   ],
   "source": [
    "#q1\n",
    "from sympy import *\n",
    "expr = N(sqrt(2),100) \n",
    "print(expr)"
   ]
  },
  {
   "cell_type": "code",
   "execution_count": 8,
   "id": "f3a852eb",
   "metadata": {},
   "outputs": [
    {
     "name": "stdout",
     "output_type": "stream",
     "text": [
      "5/6\n"
     ]
    }
   ],
   "source": [
    "#q2\n",
    "from sympy import *\n",
    "a = Rational(1,2) \n",
    "b = Rational(1,3)\n",
    "print(a + b)"
   ]
  },
  {
   "cell_type": "code",
   "execution_count": 7,
   "id": "3cbec6fa",
   "metadata": {},
   "outputs": [
    {
     "name": "stdout",
     "output_type": "stream",
     "text": [
      "x**6 + 6*x**5*y + 15*x**4*y**2 + 20*x**3*y**3 + 15*x**2*y**4 + 6*x*y**5 + y**6\n"
     ]
    }
   ],
   "source": [
    "from sympy import *\n",
    "x, y, z, t = symbols('x y z t')\n",
    "expr = expand((x + y)**6) \n",
    "print(expr)"
   ]
  },
  {
   "cell_type": "code",
   "execution_count": 3,
   "id": "bd8a9803",
   "metadata": {},
   "outputs": [
    {
     "name": "stdout",
     "output_type": "stream",
     "text": [
      "tan(x)\n"
     ]
    }
   ],
   "source": [
    "from sympy import *\n",
    "x, y, z, t = symbols('x y z t')\n",
    "expr = simplify(sin(x)/cos(x)) \n",
    "print(expr)\n",
    "\n"
   ]
  },
  {
   "cell_type": "code",
   "execution_count": 4,
   "id": "39d3cf71",
   "metadata": {},
   "outputs": [
    {
     "name": "stdout",
     "output_type": "stream",
     "text": [
      "-1/6\n"
     ]
    }
   ],
   "source": [
    "from sympy import *\n",
    "x, y, z, t = symbols('x y z t')\n",
    "expr = simplify((sin(x)-x)/x**3) \n",
    "limexpr = limit(expr, x, 0) \n",
    "print(limexpr)"
   ]
  },
  {
   "cell_type": "code",
   "execution_count": 5,
   "id": "0285404a",
   "metadata": {},
   "outputs": [
    {
     "name": "stdout",
     "output_type": "stream",
     "text": [
      "eqn simplified:  2*a - 2*b\n"
     ]
    }
   ],
   "source": [
    "#Q2\n",
    "from sympy import *\n",
    "a = symbols('a')\n",
    "b = symbols('b')\n",
    "expr = (a*2 - a*b  + a*b -b*2)\n",
    "smpl = simplify(expr)\n",
    "print(\"eqn simplified: \",smpl)"
   ]
  },
  {
   "cell_type": "code",
   "execution_count": 6,
   "id": "71e4fcbf",
   "metadata": {},
   "outputs": [
    {
     "name": "stdout",
     "output_type": "stream",
     "text": [
      "result of Integrartion :  a**3/3\n",
      "[{x: -y**2/2}]\n",
      "3/10\n",
      "cos(x)\n"
     ]
    }
   ],
   "source": [
    "#Q3\n",
    "from sympy import *\n",
    "x = a**2\n",
    "y = integrate(x, a)\n",
    "print(\"result of Integrartion : \", y)\n",
    " \n",
    "\n",
    "import sympy as sym\n",
    "x=sym.Symbol('x')\n",
    "y=sym.Symbol('y')\n",
    "expr=solve(2*x+(y**2))\n",
    "print(expr)\n",
    " \n",
    " \n",
    "\n",
    "from sympy import *\n",
    " \n",
    "a = Rational(1,10)\n",
    "b = Rational(1,5)\n",
    " \n",
    "print(a + b)\n",
    " \n",
    " \n",
    "\n",
    "from sympy import *\n",
    "x = symbols('x')\n",
    " \n",
    "expr1 = diff(sin(x))\n",
    "print(expr1)"
   ]
  },
  {
   "cell_type": "code",
   "execution_count": null,
   "id": "8d842aa3",
   "metadata": {},
   "outputs": [],
   "source": []
  }
 ],
 "metadata": {
  "kernelspec": {
   "display_name": "Python 3",
   "language": "python",
   "name": "python3"
  },
  "language_info": {
   "codemirror_mode": {
    "name": "ipython",
    "version": 3
   },
   "file_extension": ".py",
   "mimetype": "text/x-python",
   "name": "python",
   "nbconvert_exporter": "python",
   "pygments_lexer": "ipython3",
   "version": "3.8.8"
  }
 },
 "nbformat": 4,
 "nbformat_minor": 5
}
